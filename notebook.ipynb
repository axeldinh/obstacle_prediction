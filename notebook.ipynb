{
 "cells": [
  {
   "cell_type": "code",
   "execution_count": 1,
   "metadata": {},
   "outputs": [],
   "source": [
    "import sys, os\n",
    "import numpy as np\n",
    "from load_data import load_data\n",
    "from utils import save_submission\n",
    "from data_preprocessing import flatten_data\n",
    "\n",
    "os.makedirs('data', exist_ok=True)\n",
    "os.makedirs('submission', exist_ok=True)"
   ]
  },
  {
   "cell_type": "code",
   "execution_count": 57,
   "metadata": {},
   "outputs": [
    {
     "data": {
      "application/javascript": "IPython.notebook.set_autosave_interval(1000)"
     },
     "metadata": {},
     "output_type": "display_data"
    },
    {
     "name": "stdout",
     "output_type": "stream",
     "text": [
      "Autosaving every 1 seconds\n",
      "Please login here: https://api.aicrowd.com/auth/mttGkNm24VrEoYa78dn-wAdUjCuNrmt_a1vJKPALnHA\n",
      "API Key valid\n",
      "Gitlab access token valid\n",
      "Saved details successfully!\n"
     ]
    }
   ],
   "source": [
    "%autosave 1\n",
    "%load_ext aicrowd.magic\n",
    "%aicrowd login"
   ]
  },
  {
   "cell_type": "code",
   "execution_count": 58,
   "metadata": {},
   "outputs": [
    {
     "data": {
      "application/vnd.jupyter.widget-view+json": {
       "model_id": "bcccab9f4b994163a0037e7424741063",
       "version_major": 2,
       "version_minor": 0
      },
      "text/plain": [
       "data.npz:   0%|          | 0.00/6.52M [00:00<?, ?B/s]"
      ]
     },
     "metadata": {},
     "output_type": "display_data"
    },
    {
     "data": {
      "application/vnd.jupyter.widget-view+json": {
       "model_id": "2f13c8ec16d347669ac1dde03e72e53c",
       "version_major": 2,
       "version_minor": 0
      },
      "text/plain": [
       "sample_submission.csv:   0%|          | 0.00/9.01k [00:00<?, ?B/s]"
      ]
     },
     "metadata": {},
     "output_type": "display_data"
    }
   ],
   "source": [
    "%aicrowd ds dl -c obstacle-prediction -o data"
   ]
  },
  {
   "cell_type": "code",
   "execution_count": 5,
   "metadata": {},
   "outputs": [],
   "source": [
    "train_data, train_labels = load_data('train')\n",
    "test_data, _ = load_data('test')\n",
    "\n",
    "train_data = flatten_data(train_data)\n",
    "test_data = flatten_data(test_data)\n",
    "\n",
    "train_data[train_data == -1] = np.nan\n",
    "test_data[test_data == -1] = np.nan\n",
    "\n",
    "## Remove columns containing only -1\n",
    "#to_remove = np.where(np.all(np.isnan(train_data), axis=0))[0]\n",
    "#train_data = np.delete(train_data, to_remove, axis=1)\n",
    "#test_data = np.delete(test_data, to_remove, axis=1)\n",
    "\n",
    "# Remove samples containing only -1\n",
    "to_remove = np.where(np.all(np.isnan(train_data), axis=1))[0]\n",
    "train_data = np.delete(train_data, to_remove, axis=0)\n",
    "train_labels = np.delete(train_labels, to_remove, axis=0)"
   ]
  },
  {
   "cell_type": "code",
   "execution_count": 70,
   "metadata": {},
   "outputs": [],
   "source": [
    "from sklearn.impute import SimpleImputer, KNNImputer\n",
    "\n",
    "imputer = SimpleImputer(strategy='median')\n",
    "#imputer = KNNImputer(add_indicator=True)\n",
    "train_data = imputer.fit_transform(train_data)\n",
    "test_data = imputer.transform(test_data)"
   ]
  },
  {
   "cell_type": "code",
   "execution_count": 71,
   "metadata": {},
   "outputs": [],
   "source": [
    "from sklearn.decomposition import PCA\n",
    "\n",
    "pca = PCA(n_components=0.99)\n",
    "train_data = pca.fit_transform(train_data)\n",
    "test_data = pca.transform(test_data)"
   ]
  },
  {
   "cell_type": "code",
   "execution_count": 3,
   "metadata": {},
   "outputs": [
    {
     "name": "stderr",
     "output_type": "stream",
     "text": [
      "c:\\Users\\Axeld\\miniconda3\\envs\\aicrowd\\lib\\site-packages\\sklearn\\utils\\extmath.py:1050: RuntimeWarning: invalid value encountered in divide\n",
      "  updated_mean = (last_sum + new_sum) / updated_sample_count\n",
      "c:\\Users\\Axeld\\miniconda3\\envs\\aicrowd\\lib\\site-packages\\sklearn\\utils\\extmath.py:1055: RuntimeWarning: invalid value encountered in divide\n",
      "  T = new_sum / new_sample_count\n",
      "c:\\Users\\Axeld\\miniconda3\\envs\\aicrowd\\lib\\site-packages\\sklearn\\utils\\extmath.py:1075: RuntimeWarning: invalid value encountered in divide\n",
      "  new_unnormalized_variance -= correction**2 / new_sample_count\n",
      "c:\\Users\\Axeld\\miniconda3\\envs\\aicrowd\\lib\\site-packages\\sklearn\\feature_selection\\_variance_threshold.py:112: RuntimeWarning: Degrees of freedom <= 0 for slice.\n",
      "  self.variances_ = np.nanvar(X, axis=0)\n"
     ]
    }
   ],
   "source": [
    "# Remove data which are too correlated\n",
    "from sklearn.feature_selection import VarianceThreshold, SelectFromModel\n",
    "from sklearn.preprocessing import StandardScaler\n",
    "from sklearn.ensemble import RandomForestClassifier\n",
    "\n",
    "scaler = StandardScaler()\n",
    "train_data = scaler.fit_transform(train_data)\n",
    "test_data = scaler.transform(test_data)\n",
    "selector = VarianceThreshold(threshold=0.1)\n",
    "train_data = selector.fit_transform(train_data)\n",
    "test_data = selector.transform(test_data)\n",
    "#selector = SelectFromModel(estimator=RandomForestClassifier(n_estimators=100))\n",
    "#train_data = selector.fit_transform(train_data, train_labels)\n",
    "#test_data = selector.transform(test_data)"
   ]
  },
  {
   "cell_type": "code",
   "execution_count": 6,
   "metadata": {},
   "outputs": [
    {
     "name": "stdout",
     "output_type": "stream",
     "text": [
      "Searching for RandomForestClassifier ...\n",
      "Fitting 5 folds for each of 1 candidates, totalling 5 fits\n",
      "[CV 1/5] END ........ accuracy: (test=0.983) f1: (test=0.971) total time=   3.8s\n",
      "[CV 2/5] END ........ accuracy: (test=0.978) f1: (test=0.963) total time=   3.1s\n",
      "[CV 3/5] END ........ accuracy: (test=0.986) f1: (test=0.976) total time=   3.4s\n",
      "[CV 4/5] END ........ accuracy: (test=0.989) f1: (test=0.982) total time=   3.5s\n",
      "[CV 5/5] END ........ accuracy: (test=0.989) f1: (test=0.981) total time=   3.7s\n",
      "Best score: 0.9746999684517151\n",
      "Best params: {'bootstrap': True, 'ccp_alpha': 0.0, 'class_weight': None, 'criterion': 'gini', 'max_depth': 15, 'max_features': 'sqrt', 'max_leaf_nodes': None, 'max_samples': None, 'min_impurity_decrease': 0.0, 'min_samples_leaf': 1, 'min_samples_split': 2, 'min_weight_fraction_leaf': 0.0, 'n_estimators': 100, 'n_jobs': None, 'oob_score': False, 'random_state': None, 'verbose': 0, 'warm_start': False}\n",
      "\n",
      "=====================================\n",
      "\n"
     ]
    }
   ],
   "source": [
    "from sklearn.model_selection import RandomizedSearchCV\n",
    "from sklearn.neighbors import KNeighborsClassifier\n",
    "from sklearn.svm import SVC\n",
    "from sklearn.gaussian_process import GaussianProcessClassifier\n",
    "from sklearn.tree import DecisionTreeClassifier\n",
    "from sklearn.ensemble import RandomForestClassifier, AdaBoostClassifier\n",
    "from sklearn.neural_network import MLPClassifier\n",
    "from sklearn.naive_bayes import GaussianNB\n",
    "from sklearn.discriminant_analysis import QuadraticDiscriminantAnalysis\n",
    "from sklearn.linear_model import LogisticRegression, RidgeClassifier\n",
    "\n",
    "from scipy.stats import loguniform\n",
    "\n",
    "models = [\n",
    "    {\n",
    "        'estimator': LogisticRegression(max_iter=1000),\n",
    "        'param_distributions': {\n",
    "            'C': loguniform(10**-5, 10**-3),\n",
    "        },\n",
    "        'n_iter': 20,\n",
    "    },\n",
    "    {\n",
    "        'estimator': RidgeClassifier(),\n",
    "        'param_distributions': {\n",
    "            'alpha': loguniform(10**-5, 10**5),\n",
    "        },\n",
    "        'n_iter': 20,\n",
    "    },\n",
    "    {\n",
    "        'estimator': KNeighborsClassifier(),\n",
    "        'param_distributions': {\n",
    "            'n_neighbors': np.arange(1, 10, 1),\n",
    "            'weights': ['uniform', 'distance'],\n",
    "        },\n",
    "        'n_iter': 18,\n",
    "    },\n",
    "    {\n",
    "        'estimator': SVC(),\n",
    "        'param_distributions': {\n",
    "            'C': loguniform(10**-5, 10**5),\n",
    "            'kernel': ['linear', 'poly', 'rbf'],\n",
    "        },\n",
    "        'n_iter': 20,\n",
    "    },\n",
    "    {\n",
    "        'estimator': GaussianProcessClassifier(),\n",
    "        'param_distributions': {},\n",
    "        'n_iter': 1,\n",
    "    },\n",
    "    {\n",
    "        'estimator': DecisionTreeClassifier(),\n",
    "        'param_distributions': {\n",
    "            'criterion': ['gini', 'entropy'],\n",
    "            'splitter': ['best', 'random'],\n",
    "            'max_depth': np.arange(1, 30, 1),\n",
    "        },\n",
    "        'n_iter': 20,\n",
    "    },\n",
    "    {\n",
    "        'estimator': RandomForestClassifier(),\n",
    "        'param_distributions': {\n",
    "            'n_estimators': np.arange(1, 100, 1),\n",
    "            'criterion': ['gini', 'entropy'],\n",
    "            'max_depth': np.arange(1, 30, 1),\n",
    "        },\n",
    "        'n_iter': 20,\n",
    "    },\n",
    "    {\n",
    "        'estimator': AdaBoostClassifier(),\n",
    "        'param_distributions': {\n",
    "            'n_estimators': np.arange(1, 100, 1),\n",
    "            'learning_rate': loguniform(10**-5, 10**5),\n",
    "        },\n",
    "        'n_iter': 20,\n",
    "    },\n",
    "    {\n",
    "        'estimator': MLPClassifier(),\n",
    "        'param_distributions': {\n",
    "            'hidden_layer_sizes': [(0,)] + [(x,) for x in [10, 50, 100]] + [(x, x) for x in [10, 50]],\n",
    "            'activation': ['relu', 'logistic', 'tanh'],\n",
    "            'alpha': loguniform(10**-5, 10**5),\n",
    "            'learning_rate': ['constant', 'invscaling', 'adaptive'],\n",
    "            'learning_rate_init': loguniform(10**-5, 10**-2),   \n",
    "        },\n",
    "        'n_iter': 20,\n",
    "    },\n",
    "    {\n",
    "        'estimator': GaussianNB(),\n",
    "        'param_distributions': {},\n",
    "        'n_iter': 1,\n",
    "    },\n",
    "    {\n",
    "        'estimator': QuadraticDiscriminantAnalysis(),\n",
    "        'param_distributions': {},\n",
    "        'n_iter': 1,\n",
    "    }\n",
    "]\n",
    "\n",
    "models = [{\n",
    "    'estimator': RandomForestClassifier(max_depth=15),\n",
    "    'param_distributions': {\n",
    "    },\n",
    "    'n_iter': 1\n",
    "}]\n",
    "\n",
    "names = [model['estimator'].__class__.__name__ for model in models]\n",
    "\n",
    "scores = {name: None for name in names}\n",
    "params = {name: None for name in names}\n",
    "\n",
    "for model, name in zip(models, names):\n",
    "    \n",
    "    print(\"Searching for\", name, \"...\")\n",
    "\n",
    "    search = RandomizedSearchCV(cv=5, scoring=['f1', 'accuracy'], verbose=3, refit='f1', **model)\n",
    "    search.fit(train_data, train_labels)\n",
    "    scores[name] = search.best_score_\n",
    "    params[name] = search.best_estimator_.get_params()\n",
    "\n",
    "    print(\"Best score:\", scores[name])\n",
    "    print(\"Best params:\", params[name])\n",
    "\n",
    "    print(\"\\n=====================================\\n\")\n",
    "\n",
    "    # Save it in a file\n",
    "    with open('results.txt', 'w') as f:\n",
    "        for name in names:\n",
    "            f.write(f'{name}\\n')\n",
    "            f.write(f'  score: {scores[name]}\\n')\n",
    "            f.write(f'  params: {params[name]}\\n')\n"
   ]
  },
  {
   "cell_type": "code",
   "execution_count": 7,
   "metadata": {},
   "outputs": [
    {
     "name": "stdout",
     "output_type": "stream",
     "text": [
      "Best method: RandomForestClassifier\n",
      "Best score: 0.9746999684517151\n"
     ]
    }
   ],
   "source": [
    "best_method = None\n",
    "best_score = 0\n",
    "\n",
    "for name in names:\n",
    "    if scores[name] > best_score:\n",
    "        best_score = scores[name]\n",
    "        best_method = name\n",
    "\n",
    "print(\"Best method:\", best_method)\n",
    "print(\"Best score:\", best_score)\n",
    "\n",
    "final_model = getattr(sys.modules[__name__], best_method)(**params[best_method])\n",
    "predictions = final_model.fit(train_data, train_labels).predict(test_data)\n",
    "save_submission(predictions, 'submission/submission.csv')"
   ]
  },
  {
   "cell_type": "markdown",
   "metadata": {},
   "source": [
    "# Create the submission\n",
    "\n",
    "Save the notebook in the assets folder and zip it"
   ]
  },
  {
   "cell_type": "code",
   "execution_count": 8,
   "metadata": {},
   "outputs": [
    {
     "data": {
      "text/plain": [
       "'c:\\\\Users\\\\Axeld\\\\Desktop\\\\AIcrowd\\\\Blitz\\\\obstacle_prediction\\\\submission.zip'"
      ]
     },
     "execution_count": 8,
     "metadata": {},
     "output_type": "execute_result"
    }
   ],
   "source": [
    "import shutil, os\n",
    "\n",
    "os.makedirs('submission', exist_ok=True)\n",
    "\n",
    "shutil.copyfile('notebook.ipynb', 'submission/original_notebook.ipynb')\n",
    "shutil.make_archive('submission', 'zip', 'submission')"
   ]
  }
 ],
 "metadata": {
  "kernelspec": {
   "display_name": "ddpm",
   "language": "python",
   "name": "python3"
  },
  "language_info": {
   "codemirror_mode": {
    "name": "ipython",
    "version": 3
   },
   "file_extension": ".py",
   "mimetype": "text/x-python",
   "name": "python",
   "nbconvert_exporter": "python",
   "pygments_lexer": "ipython3",
   "version": "3.9.0"
  }
 },
 "nbformat": 4,
 "nbformat_minor": 2
}
