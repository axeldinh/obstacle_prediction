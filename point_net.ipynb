{
 "cells": [
  {
   "cell_type": "code",
   "execution_count": null,
   "metadata": {},
   "outputs": [],
   "source": [
    "import torch\n",
    "device = torch.device(\"cuda:0\" if torch.cuda.is_available() else \"cpu\")"
   ]
  },
  {
   "cell_type": "markdown",
   "metadata": {},
   "source": [
    "# PointNet Model"
   ]
  },
  {
   "cell_type": "markdown",
   "metadata": {},
   "source": [
    "Each datapoint consist of a set $\\{x_i\\}_{i=1}^k$ where $x_i = [\\phi, \\theta, depth, v]$. However the number $x_i$'s might differ between datapoints."
   ]
  },
  {
   "cell_type": "code",
   "execution_count": null,
   "metadata": {},
   "outputs": [],
   "source": [
    "import torch.nn as nn\n",
    "\n",
    "\n",
    "class MLP(nn.Module):\n",
    "\n",
    "    def __init__(self, sizes):\n",
    "\n",
    "        super(MLP, self).__init__()\n",
    "        self.sizes = sizes\n",
    "        self.activation = nn.ReLU()\n",
    "\n",
    "        self.mlp = nn.Sequential(\n",
    "            *(nn.Sequential(\n",
    "                nn.Conv1d(self.sizes[i], self.sizes[i + 1], 1),\n",
    "                nn.BatchNorm1d(self.sizes[i + 1]),\n",
    "                self.activation\n",
    "            ) for i in range(len(self.sizes) - 1))\n",
    "        )\n",
    "\n",
    "    def forward(self, x):\n",
    "        return self.mlp(x)\n",
    "    \n",
    "# Check invariance\n",
    "x = torch.randn(32, 3, 251).to(device)\n",
    "perm = torch.randperm(251)\n",
    "model = MLP([3, 64, 64]).to(device)\n",
    "assert torch.all(model(x)[:, :, perm] == model(x[:, :, perm])), \"Permutation invariance failed\"\n",
    "    \n",
    "class T_Net(nn.Module):\n",
    "    \n",
    "    def __init__(self, input_size=3):\n",
    "        super(T_Net, self).__init__()\n",
    "        \n",
    "        self.input_size = input_size\n",
    "        \n",
    "        self.mlp1 = MLP([self.input_size, 64, 128, 1024])\n",
    "        \n",
    "        self.mlp2 = MLP([1024, 256, 128])\n",
    "        \n",
    "        self.mlp_out = nn.Sequential(\n",
    "            nn.Conv1d(128, 128, 1),\n",
    "            nn.BatchNorm1d(128),\n",
    "            nn.ReLU(),\n",
    "            nn.Conv1d(128, 64, 1),\n",
    "            nn.BatchNorm1d(64),\n",
    "            nn.ReLU(),\n",
    "            nn.Conv1d(64, self.input_size ** 2, 1),\n",
    "        )\n",
    "        \n",
    "    def forward(self, x):\n",
    "        \n",
    "        x = self.mlp1(x)\n",
    "        x = torch.max(x, dim=-1)[0].unsqueeze(-1)\n",
    "        x = self.mlp2(x)\n",
    "        x = torch.max(x, dim=-1)[0].unsqueeze(-1)\n",
    "        x = self.mlp_out(x)\n",
    "        x = x.view(-1, self.input_size, self.input_size)\n",
    "        \n",
    "        return x\n",
    "    \n",
    "# Check Invariance\n",
    "model = T_Net().to(device)\n",
    "assert torch.all(model(x) == model(x[:, :, perm])), \"Permutation invariance failed\"\n",
    "\n",
    "\n",
    "class PointNet(nn.Module):\n",
    "    def __init__(self, input_size=3, num_classes=10, dropout=0.3):\n",
    "        super(PointNet, self).__init__()\n",
    "\n",
    "        self.input_size = input_size\n",
    "        self.num_classes = num_classes\n",
    "        self.dropout = dropout\n",
    "\n",
    "        self.input_transform = T_Net(input_size=self.input_size)\n",
    "        self.feature_transform = T_Net(input_size=64)\n",
    "\n",
    "        self.mlp1 = MLP([self.input_size, 64, 64])\n",
    "\n",
    "        self.mlp2 = MLP([64, 64, 128, 1024])\n",
    "\n",
    "        self.mlp_out = nn.Sequential(\n",
    "            nn.Conv1d(1024, 512, 1),\n",
    "            nn.BatchNorm1d(512),\n",
    "            nn.ReLU(),\n",
    "            nn.Conv1d(512, 256, 1),\n",
    "            nn.Dropout(self.dropout),\n",
    "            nn.BatchNorm1d(256),\n",
    "            nn.ReLU(),\n",
    "            nn.Conv1d(256, self.num_classes, 1),\n",
    "        )\n",
    "\n",
    "    def forward(self, x):\n",
    "\n",
    "        x = (x.transpose(1, 2) @ self.input_transform(x)).transpose(1, 2)\n",
    "        x = self.mlp1(x)\n",
    "        x = (x.transpose(1, 2) @ self.feature_transform(x)).transpose(1, 2)\n",
    "        x = self.mlp2(x)\n",
    "        x = torch.max(x, dim=-1)[0].unsqueeze(-1)\n",
    "        x = self.mlp_out(x).squeeze(-1)\n",
    "#\n",
    "        return x\n",
    "\n",
    "model = PointNet(dropout=0.0).to(device)\n",
    "x = torch.randn(32, 3, 251).to(device)\n",
    "assert model(x).shape, \"Model output shape is incorrect\"\n",
    "\n",
    "# Check Invariance\n",
    "assert torch.all(model(x) == model(x[:, :, perm])), \"Permutation equivariance failed\"\n",
    "del model, x"
   ]
  },
  {
   "cell_type": "markdown",
   "metadata": {},
   "source": [
    "# Load Data"
   ]
  },
  {
   "cell_type": "code",
   "execution_count": null,
   "metadata": {},
   "outputs": [],
   "source": [
    "from load_data import load_data\n",
    "import numpy as np\n",
    "\n",
    "train_data, train_labels = load_data()\n",
    "test_data, _ = load_data('test')\n",
    "\n",
    "def remove_nans(data):\n",
    "    new_data = []\n",
    "    for d in data:\n",
    "        nan_index = np.where(d==-1)[0]\n",
    "        min_nan = nan_index.min()\n",
    "        new_data.append(d[:min_nan])\n",
    "\n",
    "    return new_data\n",
    "\n",
    "train_data = remove_nans(train_data)\n",
    "test_data = remove_nans(test_data)\n",
    "\n",
    "means = np.concatenate(train_data).mean(axis=0)\n",
    "stds = np.concatenate(train_data).std(axis=0)\n",
    "\n",
    "train_data = [(d-means)/stds for d in train_data]\n",
    "test_data = [(d-means)/stds for d in test_data]"
   ]
  },
  {
   "cell_type": "code",
   "execution_count": null,
   "metadata": {},
   "outputs": [],
   "source": [
    "from torch.utils.data import Dataset, DataLoader\n",
    "\n",
    "class PointCloudDataset(Dataset):\n",
    "\n",
    "    def __init__(self, data, labels=None):\n",
    "        self.data = data\n",
    "        self.labels = labels\n",
    "\n",
    "    def __getitem__(self, index):\n",
    "        label = self.labels[index] if self.labels is not None else None\n",
    "        return torch.from_numpy(self.data[index]).to(torch.float32), label\n",
    "\n",
    "    def __len__(self):\n",
    "        return len(self.data)\n",
    "    \n",
    "train_dataset = PointCloudDataset(train_data, train_labels)\n",
    "test_dataset = PointCloudDataset(test_data)\n",
    "\n",
    "def collate_fn(batch):\n",
    "    lengths = [len(b[0]) for b in batch]\n",
    "    max_length = max(lengths)\n",
    "    paddings = [max_length - l for l in lengths]\n",
    "    batch = [(np.pad(b[0], ((0, p), (0, 0))), b[1]) for b, p in zip(batch, paddings)]\n",
    "    data, labels = zip(*batch)\n",
    "    data = np.stack(data)\n",
    "    labels = np.stack(labels)\n",
    "    return torch.tensor(data).to(torch.float32), torch.tensor(labels).to(torch.int64) if labels[0] is not None else None\n",
    "\n",
    "train_loader = DataLoader(train_dataset, batch_size=32, shuffle=True, collate_fn=collate_fn)\n",
    "test_loader = DataLoader(test_dataset, batch_size=32, shuffle=False, collate_fn=collate_fn)"
   ]
  },
  {
   "cell_type": "markdown",
   "metadata": {},
   "source": [
    "# Training"
   ]
  },
  {
   "cell_type": "code",
   "execution_count": null,
   "metadata": {},
   "outputs": [],
   "source": [
    "model = PointNet(input_size=4, num_classes=2, dropout=0.3).to(device)\n",
    "optimizer = torch.optim.Adam(model.parameters(), lr=0.001)\n",
    "scheduler = torch.optim.lr_scheduler.StepLR(optimizer, step_size=20, gamma=0.5)\n",
    "loss = nn.CrossEntropyLoss()"
   ]
  },
  {
   "cell_type": "code",
   "execution_count": null,
   "metadata": {},
   "outputs": [],
   "source": [
    "from tqdm import tqdm\n",
    "\n",
    "num_epochs = 50\n",
    "\n",
    "for epoch in range(num_epochs):\n",
    "    epoch_loss = 0\n",
    "    pb2 = tqdm(train_loader, leave=False)\n",
    "    for data, labels in pb2:\n",
    "        optimizer.zero_grad()\n",
    "        output = model(data.transpose(1, 2).to(device))\n",
    "        loss_val = loss(output, labels.to(device))\n",
    "        loss_val.backward()\n",
    "        optimizer.step()\n",
    "        epoch_loss += loss_val.item()\n",
    "    scheduler.step()\n",
    "    print(f'Epoch: {epoch+1}, Loss: {epoch_loss/len(train_loader)}', end='')"
   ]
  },
  {
   "cell_type": "markdown",
   "metadata": {},
   "source": [
    "# Get Predictions"
   ]
  },
  {
   "cell_type": "code",
   "execution_count": null,
   "metadata": {},
   "outputs": [],
   "source": [
    "predictions = []\n",
    "model.eval()\n",
    "with torch.no_grad():\n",
    "    for data, _ in test_loader:\n",
    "        output = model(data.to(device))\n",
    "        predictions.append(output.argmax().item())"
   ]
  },
  {
   "cell_type": "markdown",
   "metadata": {},
   "source": [
    "# Save submission"
   ]
  },
  {
   "cell_type": "code",
   "execution_count": null,
   "metadata": {},
   "outputs": [],
   "source": [
    "import shutil, os\n",
    "\n",
    "os.makedirs('submission', exist_ok=True)\n",
    "\n",
    "with open('submission/submission.csv', 'w') as f:\n",
    "    f.write('label\\n')\n",
    "    for p in predictions:\n",
    "        f.write(f'{p}\\n')\n",
    "\n",
    "shutil.copyfile('point_net.ipynb', 'submission/original_notebook.ipynb')\n",
    "shutil.make_archive('submission', 'zip', 'submission')"
   ]
  },
  {
   "cell_type": "markdown",
   "metadata": {},
   "source": []
  }
 ],
 "metadata": {
  "kernelspec": {
   "display_name": "aicrowd",
   "language": "python",
   "name": "python3"
  },
  "language_info": {
   "codemirror_mode": {
    "name": "ipython",
    "version": 3
   },
   "file_extension": ".py",
   "mimetype": "text/x-python",
   "name": "python",
   "nbconvert_exporter": "python",
   "pygments_lexer": "ipython3",
   "version": "3.9.18"
  }
 },
 "nbformat": 4,
 "nbformat_minor": 2
}
