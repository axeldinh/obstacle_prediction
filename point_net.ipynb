{
 "cells": [
  {
   "cell_type": "code",
   "execution_count": 5,
   "metadata": {},
   "outputs": [],
   "source": [
    "import torch\n",
    "device = torch.device(\"cuda:0\" if torch.cuda.is_available() else \"cpu\")"
   ]
  },
  {
   "cell_type": "markdown",
   "metadata": {},
   "source": [
    "# PointNet Model"
   ]
  },
  {
   "cell_type": "markdown",
   "metadata": {},
   "source": [
    "Each datapoint consist of a set $\\{x_i\\}_{i=1}^k$ where $x_i = [\\phi, \\theta, depth, v]$. However the number $x_i$'s might differ between datapoints."
   ]
  },
  {
   "cell_type": "code",
   "execution_count": 6,
   "metadata": {},
   "outputs": [],
   "source": [
    "import torch.nn as nn\n",
    "\n",
    "\n",
    "class MLP(nn.Module):\n",
    "\n",
    "    def __init__(self, sizes):\n",
    "\n",
    "        super(MLP, self).__init__()\n",
    "        self.sizes = sizes\n",
    "        self.activation = nn.ReLU()\n",
    "\n",
    "        self.mlp = nn.Sequential(\n",
    "            *(nn.Sequential(\n",
    "                nn.Conv1d(self.sizes[i], self.sizes[i + 1], 1),\n",
    "                nn.BatchNorm1d(self.sizes[i + 1]),\n",
    "                self.activation\n",
    "            ) for i in range(len(self.sizes) - 1))\n",
    "        )\n",
    "\n",
    "    def forward(self, x):\n",
    "        return self.mlp(x)\n",
    "    \n",
    "# Check invariance\n",
    "x = torch.randn(32, 3, 251).to(device)\n",
    "perm = torch.randperm(251)\n",
    "model = MLP([3, 64, 64]).to(device)\n",
    "torch.all(torch.abs(model(x)[:, :, perm]-model(x[:, :, perm])) < 1e-6), \"Permutation invariance failed\"\n",
    "    \n",
    "class T_Net(nn.Module):\n",
    "    \n",
    "    def __init__(self, input_size=3):\n",
    "        super(T_Net, self).__init__()\n",
    "        \n",
    "        self.input_size = input_size\n",
    "        \n",
    "        self.mlp1 = MLP([self.input_size, 64, 128, 1024])\n",
    "        \n",
    "        self.mlp2 = MLP([1024, 256, 128])\n",
    "        \n",
    "        self.mlp_out = nn.Sequential(\n",
    "            nn.Conv1d(128, 128, 1),\n",
    "            nn.BatchNorm1d(128),\n",
    "            nn.ReLU(),\n",
    "            nn.Conv1d(128, 64, 1),\n",
    "            nn.BatchNorm1d(64),\n",
    "            nn.ReLU(),\n",
    "            nn.Conv1d(64, self.input_size ** 2, 1),\n",
    "        )\n",
    "        \n",
    "    def forward(self, x):\n",
    "        \n",
    "        x = self.mlp1(x)\n",
    "        x = torch.max(x, dim=-1)[0].unsqueeze(-1)\n",
    "        x = self.mlp2(x)\n",
    "        x = torch.max(x, dim=-1)[0].unsqueeze(-1)\n",
    "        x = self.mlp_out(x)\n",
    "        x = x.view(-1, self.input_size, self.input_size)\n",
    "        \n",
    "        return x\n",
    "    \n",
    "# Check Invariance\n",
    "model = T_Net().to(device)\n",
    "torch.all(torch.abs(model(x)-model(x[:, :, perm])) < 1e-6), \"Permutation invariance failed\"\n",
    "\n",
    "\n",
    "class PointNet(nn.Module):\n",
    "    def __init__(self, input_size=3, num_classes=10, dropout=0.3):\n",
    "        super(PointNet, self).__init__()\n",
    "\n",
    "        self.input_size = input_size\n",
    "        self.num_classes = num_classes\n",
    "        self.dropout = dropout\n",
    "\n",
    "        self.input_transform = T_Net(input_size=self.input_size)\n",
    "        self.feature_transform = T_Net(input_size=64)\n",
    "\n",
    "        self.mlp1 = MLP([self.input_size, 64, 64])\n",
    "\n",
    "        self.mlp2 = MLP([64, 64, 128, 1024])\n",
    "\n",
    "        self.mlp_out = nn.Sequential(\n",
    "            nn.Conv1d(1024, 512, 1),\n",
    "            nn.BatchNorm1d(512),\n",
    "            nn.ReLU(),\n",
    "            nn.Conv1d(512, 256, 1),\n",
    "            nn.Dropout(self.dropout),\n",
    "            nn.BatchNorm1d(256),\n",
    "            nn.ReLU(),\n",
    "            nn.Conv1d(256, self.num_classes, 1),\n",
    "        )\n",
    "\n",
    "    def forward(self, x):\n",
    "\n",
    "        x = (x.transpose(1, 2) @ self.input_transform(x)).transpose(1, 2)\n",
    "        x = self.mlp1(x)\n",
    "        x = (x.transpose(1, 2) @ self.feature_transform(x)).transpose(1, 2)\n",
    "        x = self.mlp2(x)\n",
    "        x = torch.max(x, dim=-1)[0].unsqueeze(-1)\n",
    "        x = self.mlp_out(x).squeeze(-1)\n",
    "\n",
    "        return x\n",
    "\n",
    "model = PointNet(dropout=0.0).to(device)\n",
    "x = torch.randn(32, 3, 251).to(device)\n",
    "assert model(x).shape, \"Model output shape is incorrect\"\n",
    "\n",
    "# Check Invariance\n",
    "torch.all(torch.abs(model(x)-model(x[:, :, perm])) < 1e-6), \"Permutation equivariance failed\"\n",
    "del model, x"
   ]
  },
  {
   "cell_type": "markdown",
   "metadata": {},
   "source": [
    "# Load Data"
   ]
  },
  {
   "cell_type": "code",
   "execution_count": 7,
   "metadata": {},
   "outputs": [],
   "source": [
    "from load_data import load_data\n",
    "import numpy as np\n",
    "\n",
    "train_data, train_labels = load_data()\n",
    "val_index = np.random.choice(len(train_data), int(len(train_data) * 0.1), replace=False)\n",
    "val_data = [train_data[i] for i in val_index]\n",
    "val_labels = [train_labels[i] for i in val_index]\n",
    "train_data = [train_data[i] for i in range(len(train_data)) if i not in val_index]\n",
    "train_labels = [train_labels[i] for i in range(len(train_labels)) if i not in val_index]\n",
    "test_data, _ = load_data('test')\n",
    "\n",
    "def remove_nans(data):\n",
    "    new_data = []\n",
    "    for d in data:\n",
    "        nan_index = np.where(d==-1)[0]\n",
    "        min_nan = nan_index.min()\n",
    "        new_data.append(d[:min_nan])\n",
    "\n",
    "    return new_data\n",
    "\n",
    "train_data = remove_nans(train_data)\n",
    "val_data = remove_nans(val_data)\n",
    "test_data = remove_nans(test_data)\n",
    "\n",
    "means = np.concatenate(train_data).mean(axis=0)\n",
    "stds = np.concatenate(train_data).std(axis=0)\n",
    "\n",
    "train_data = [(d-means)/stds for d in train_data]\n",
    "val_data = [(d-means)/stds for d in val_data]\n",
    "test_data = [(d-means)/stds for d in test_data]"
   ]
  },
  {
   "cell_type": "code",
   "execution_count": 8,
   "metadata": {},
   "outputs": [],
   "source": [
    "from torch.utils.data import Dataset, DataLoader\n",
    "\n",
    "class PointCloudDataset(Dataset):\n",
    "\n",
    "    def __init__(self, data, labels=None):\n",
    "        self.data = data\n",
    "        self.labels = labels\n",
    "\n",
    "    def __getitem__(self, index):\n",
    "        label = self.labels[index] if self.labels is not None else None\n",
    "        return torch.from_numpy(self.data[index]).to(torch.float32), label\n",
    "\n",
    "    def __len__(self):\n",
    "        return len(self.data)\n",
    "    \n",
    "train_dataset = PointCloudDataset(train_data, train_labels)\n",
    "val_dataset = PointCloudDataset(val_data, val_labels)\n",
    "test_dataset = PointCloudDataset(test_data)\n",
    "\n",
    "def collate_fn(batch):\n",
    "    lengths = [len(b[0]) for b in batch]\n",
    "    max_length = max(lengths)\n",
    "    paddings = [max_length - l for l in lengths]\n",
    "    batch = [(np.pad(b[0], ((0, p), (0, 0))), b[1]) for b, p in zip(batch, paddings)]\n",
    "    data, labels = zip(*batch)\n",
    "    data = np.stack(data)\n",
    "    labels = np.stack(labels)\n",
    "    return torch.tensor(data).to(torch.float32), torch.tensor(labels).to(torch.int64) if labels[0] is not None else None\n",
    "\n",
    "train_loader = DataLoader(train_dataset, batch_size=32, shuffle=True, collate_fn=collate_fn)\n",
    "val_loader = DataLoader(val_dataset, batch_size=32, shuffle=False, collate_fn=collate_fn)\n",
    "test_loader = DataLoader(test_dataset, batch_size=32, shuffle=False, collate_fn=collate_fn)"
   ]
  },
  {
   "cell_type": "markdown",
   "metadata": {},
   "source": [
    "# Training"
   ]
  },
  {
   "cell_type": "code",
   "execution_count": 13,
   "metadata": {},
   "outputs": [],
   "source": [
    "model = PointNet(input_size=4, num_classes=2, dropout=0.3).to(device)\n",
    "optimizer = torch.optim.Adam(model.parameters(), lr=0.001)\n",
    "scheduler = torch.optim.lr_scheduler.StepLR(optimizer, step_size=20, gamma=0.5)\n",
    "loss = nn.CrossEntropyLoss()"
   ]
  },
  {
   "cell_type": "code",
   "execution_count": 16,
   "metadata": {},
   "outputs": [],
   "source": [
    "def validate(model, val_loader):\n",
    "\n",
    "    model.eval()\n",
    "    total_loss = 0.0\n",
    "    TP, TN, FP, FN = 0, 0, 0, 0\n",
    "\n",
    "    for data, labels in val_loader:\n",
    "\n",
    "        data = data.to(device)\n",
    "        labels = labels.to(device)\n",
    "        preds = model(data.transpose(1, 2))\n",
    "        total_loss += loss(preds, labels).item()\n",
    "        preds = preds.argmax(dim=-1)\n",
    "        TP += ((preds == 1) & (labels == 1)).sum().item()\n",
    "        TN += ((preds == 0) & (labels == 0)).sum().item()\n",
    "        FP += ((preds == 1) & (labels == 0)).sum().item()\n",
    "        FN += ((preds == 0) & (labels == 1)).sum().item()\n",
    "\n",
    "    total_samples = TP + TN + FP + FN    \n",
    "    accuracy = (TP + TN) / total_samples\n",
    "    precision = TP / (TP + FP) if TP + FP > 0 else 0\n",
    "    recall = TP / (TP + FN) if TP + FN > 0 else 0\n",
    "    f1 = 2 * precision * recall / (precision + recall) if precision + recall > 0 else 0\n",
    "    total_loss = total_loss / len(val_loader)\n",
    "\n",
    "    return total_loss, accuracy, precision, recall, f1"
   ]
  },
  {
   "cell_type": "code",
   "execution_count": 17,
   "metadata": {},
   "outputs": [
    {
     "name": "stderr",
     "output_type": "stream",
     "text": [
      "                                             \r"
     ]
    },
    {
     "name": "stdout",
     "output_type": "stream",
     "text": [
      "Epoch: 1, Loss: 0.1083772811624739"
     ]
    },
    {
     "name": "stderr",
     "output_type": "stream",
     "text": [
      "                                             \r"
     ]
    },
    {
     "name": "stdout",
     "output_type": "stream",
     "text": [
      "Epoch: 2, Loss: 0.10759331617090438"
     ]
    },
    {
     "name": "stderr",
     "output_type": "stream",
     "text": [
      "                                             \r"
     ]
    },
    {
     "name": "stdout",
     "output_type": "stream",
     "text": [
      "Epoch: 3, Loss: 0.10563045243422191"
     ]
    },
    {
     "name": "stderr",
     "output_type": "stream",
     "text": [
      "                                             \r"
     ]
    },
    {
     "name": "stdout",
     "output_type": "stream",
     "text": [
      "Epoch: 4, Loss: 0.10327700773874919"
     ]
    },
    {
     "name": "stderr",
     "output_type": "stream",
     "text": [
      "                                     \r"
     ]
    },
    {
     "ename": "KeyboardInterrupt",
     "evalue": "",
     "output_type": "error",
     "traceback": [
      "\u001b[1;31m---------------------------------------------------------------------------\u001b[0m",
      "\u001b[1;31mKeyboardInterrupt\u001b[0m                         Traceback (most recent call last)",
      "\u001b[1;32mc:\\Users\\Axeld\\Desktop\\AIcrowd\\Blitz\\obstacle_prediction\\point_net.ipynb Cell 11\u001b[0m line \u001b[0;36m1\n\u001b[0;32m     <a href='vscode-notebook-cell:/c%3A/Users/Axeld/Desktop/AIcrowd/Blitz/obstacle_prediction/point_net.ipynb#X12sZmlsZQ%3D%3D?line=11'>12</a>\u001b[0m output \u001b[39m=\u001b[39m model(data\u001b[39m.\u001b[39mtranspose(\u001b[39m1\u001b[39m, \u001b[39m2\u001b[39m)\u001b[39m.\u001b[39mto(device))\n\u001b[0;32m     <a href='vscode-notebook-cell:/c%3A/Users/Axeld/Desktop/AIcrowd/Blitz/obstacle_prediction/point_net.ipynb#X12sZmlsZQ%3D%3D?line=12'>13</a>\u001b[0m loss_val \u001b[39m=\u001b[39m loss(output, labels\u001b[39m.\u001b[39mto(device))\n\u001b[1;32m---> <a href='vscode-notebook-cell:/c%3A/Users/Axeld/Desktop/AIcrowd/Blitz/obstacle_prediction/point_net.ipynb#X12sZmlsZQ%3D%3D?line=13'>14</a>\u001b[0m loss_val\u001b[39m.\u001b[39;49mbackward()\n\u001b[0;32m     <a href='vscode-notebook-cell:/c%3A/Users/Axeld/Desktop/AIcrowd/Blitz/obstacle_prediction/point_net.ipynb#X12sZmlsZQ%3D%3D?line=14'>15</a>\u001b[0m optimizer\u001b[39m.\u001b[39mstep()\n\u001b[0;32m     <a href='vscode-notebook-cell:/c%3A/Users/Axeld/Desktop/AIcrowd/Blitz/obstacle_prediction/point_net.ipynb#X12sZmlsZQ%3D%3D?line=15'>16</a>\u001b[0m epoch_loss \u001b[39m+\u001b[39m\u001b[39m=\u001b[39m loss_val\u001b[39m.\u001b[39mitem()\n",
      "File \u001b[1;32mc:\\Users\\Axeld\\miniconda3\\envs\\aicrowd\\lib\\site-packages\\torch\\_tensor.py:492\u001b[0m, in \u001b[0;36mTensor.backward\u001b[1;34m(self, gradient, retain_graph, create_graph, inputs)\u001b[0m\n\u001b[0;32m    482\u001b[0m \u001b[39mif\u001b[39;00m has_torch_function_unary(\u001b[39mself\u001b[39m):\n\u001b[0;32m    483\u001b[0m     \u001b[39mreturn\u001b[39;00m handle_torch_function(\n\u001b[0;32m    484\u001b[0m         Tensor\u001b[39m.\u001b[39mbackward,\n\u001b[0;32m    485\u001b[0m         (\u001b[39mself\u001b[39m,),\n\u001b[1;32m   (...)\u001b[0m\n\u001b[0;32m    490\u001b[0m         inputs\u001b[39m=\u001b[39minputs,\n\u001b[0;32m    491\u001b[0m     )\n\u001b[1;32m--> 492\u001b[0m torch\u001b[39m.\u001b[39;49mautograd\u001b[39m.\u001b[39;49mbackward(\n\u001b[0;32m    493\u001b[0m     \u001b[39mself\u001b[39;49m, gradient, retain_graph, create_graph, inputs\u001b[39m=\u001b[39;49minputs\n\u001b[0;32m    494\u001b[0m )\n",
      "File \u001b[1;32mc:\\Users\\Axeld\\miniconda3\\envs\\aicrowd\\lib\\site-packages\\torch\\autograd\\__init__.py:251\u001b[0m, in \u001b[0;36mbackward\u001b[1;34m(tensors, grad_tensors, retain_graph, create_graph, grad_variables, inputs)\u001b[0m\n\u001b[0;32m    246\u001b[0m     retain_graph \u001b[39m=\u001b[39m create_graph\n\u001b[0;32m    248\u001b[0m \u001b[39m# The reason we repeat the same comment below is that\u001b[39;00m\n\u001b[0;32m    249\u001b[0m \u001b[39m# some Python versions print out the first line of a multi-line function\u001b[39;00m\n\u001b[0;32m    250\u001b[0m \u001b[39m# calls in the traceback and some print out the last line\u001b[39;00m\n\u001b[1;32m--> 251\u001b[0m Variable\u001b[39m.\u001b[39;49m_execution_engine\u001b[39m.\u001b[39;49mrun_backward(  \u001b[39m# Calls into the C++ engine to run the backward pass\u001b[39;49;00m\n\u001b[0;32m    252\u001b[0m     tensors,\n\u001b[0;32m    253\u001b[0m     grad_tensors_,\n\u001b[0;32m    254\u001b[0m     retain_graph,\n\u001b[0;32m    255\u001b[0m     create_graph,\n\u001b[0;32m    256\u001b[0m     inputs,\n\u001b[0;32m    257\u001b[0m     allow_unreachable\u001b[39m=\u001b[39;49m\u001b[39mTrue\u001b[39;49;00m,\n\u001b[0;32m    258\u001b[0m     accumulate_grad\u001b[39m=\u001b[39;49m\u001b[39mTrue\u001b[39;49;00m,\n\u001b[0;32m    259\u001b[0m )\n",
      "\u001b[1;31mKeyboardInterrupt\u001b[0m: "
     ]
    }
   ],
   "source": [
    "\n",
    "num_epochs = 50\n",
    "train_losses = []\n",
    "val_scores = []\n",
    "best_f1_val = 0.0\n",
    "\n",
    "for epoch in range(num_epochs):\n",
    "    epoch_loss = 0\n",
    "    for data, labels in train_loader:\n",
    "        optimizer.zero_grad()\n",
    "        output = model(data.transpose(1, 2).to(device))\n",
    "        loss_val = loss(output, labels.to(device))\n",
    "        loss_val.backward()\n",
    "        optimizer.step()\n",
    "        epoch_loss += loss_val.item()\n",
    "    epoch_loss /= len(train_loader)\n",
    "    train_losses.append(epoch_loss)\n",
    "    val_scores.append(validate(model, val_loader))\n",
    "    if val_scores[-1][-1] > best_f1_val:\n",
    "        best_f1_val = val_scores[-1][-1]\n",
    "        torch.save(model.state_dict(), 'best_model.pth')\n",
    "    scheduler.step()\n",
    "    print(f'Epoch: {epoch+1}, Loss: {epoch_loss/len(train_loader):.2e}')\n",
    "\n",
    "model.load_state_dict(torch.load('best_model.pth'))\n"
   ]
  },
  {
   "cell_type": "code",
   "execution_count": null,
   "metadata": {},
   "outputs": [],
   "source": [
    "import matplotlib.pyplot as plt\n",
    "\n",
    "plt.plot(train_losses, label='Train Loss')\n",
    "plt.plot([s[0] for s in val_scores], label='Val Loss')\n",
    "plt.yscale('log')\n",
    "plt.legend()\n",
    "plt.show()\n",
    "\n",
    "plt.plot([s[1] for s in val_scores], label='Accuracy')\n",
    "plt.plot([s[2] for s in val_scores], label='Precision')\n",
    "plt.plot([s[3] for s in val_scores], label='Recall')\n",
    "plt.plot([s[4] for s in val_scores], label='F1')\n",
    "plt.legend()\n",
    "plt.show()"
   ]
  },
  {
   "cell_type": "markdown",
   "metadata": {},
   "source": [
    "# Get Predictions"
   ]
  },
  {
   "cell_type": "code",
   "execution_count": null,
   "metadata": {},
   "outputs": [],
   "source": [
    "predictions = []\n",
    "model.eval()\n",
    "with torch.no_grad():\n",
    "    for data, _ in test_loader:\n",
    "        output = model(data.to(device))\n",
    "        predictions.append(output.argmax())\n",
    "predictions = torch.cat(predictions).cpu().numpy()"
   ]
  },
  {
   "cell_type": "markdown",
   "metadata": {},
   "source": [
    "# Save submission"
   ]
  },
  {
   "cell_type": "code",
   "execution_count": null,
   "metadata": {},
   "outputs": [],
   "source": [
    "import shutil, os\n",
    "\n",
    "os.makedirs('submission', exist_ok=True)\n",
    "\n",
    "with open('submission/submission.csv', 'w') as f:\n",
    "    f.write('label\\n')\n",
    "    for p in predictions:\n",
    "        f.write(f'{p}\\n')\n",
    "\n",
    "shutil.copyfile('point_net.ipynb', 'submission/original_notebook.ipynb')\n",
    "shutil.make_archive('submission', 'zip', 'submission')"
   ]
  },
  {
   "cell_type": "markdown",
   "metadata": {},
   "source": []
  }
 ],
 "metadata": {
  "kernelspec": {
   "display_name": "aicrowd",
   "language": "python",
   "name": "python3"
  },
  "language_info": {
   "codemirror_mode": {
    "name": "ipython",
    "version": 3
   },
   "file_extension": ".py",
   "mimetype": "text/x-python",
   "name": "python",
   "nbconvert_exporter": "python",
   "pygments_lexer": "ipython3",
   "version": "3.9.18"
  }
 },
 "nbformat": 4,
 "nbformat_minor": 2
}
